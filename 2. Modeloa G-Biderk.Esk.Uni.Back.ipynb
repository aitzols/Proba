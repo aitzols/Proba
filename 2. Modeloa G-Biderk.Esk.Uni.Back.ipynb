{
 "cells": [
  {
   "cell_type": "code",
   "execution_count": 1,
   "metadata": {},
   "outputs": [
    {
     "data": {
      "text/html": [
       "<div>\n",
       "<style scoped>\n",
       "    .dataframe tbody tr th:only-of-type {\n",
       "        vertical-align: middle;\n",
       "    }\n",
       "\n",
       "    .dataframe tbody tr th {\n",
       "        vertical-align: top;\n",
       "    }\n",
       "\n",
       "    .dataframe thead th {\n",
       "        text-align: right;\n",
       "    }\n",
       "</style>\n",
       "<table border=\"1\" class=\"dataframe\">\n",
       "  <thead>\n",
       "    <tr style=\"text-align: right;\">\n",
       "      <th></th>\n",
       "      <th>id</th>\n",
       "      <th>keyword</th>\n",
       "      <th>location</th>\n",
       "      <th>text</th>\n",
       "      <th>target</th>\n",
       "    </tr>\n",
       "  </thead>\n",
       "  <tbody>\n",
       "    <tr>\n",
       "      <th>0</th>\n",
       "      <td>1</td>\n",
       "      <td>NaN</td>\n",
       "      <td>NaN</td>\n",
       "      <td>Our Deeds are the Reason of this #earthquake M...</td>\n",
       "      <td>1</td>\n",
       "    </tr>\n",
       "    <tr>\n",
       "      <th>1</th>\n",
       "      <td>4</td>\n",
       "      <td>NaN</td>\n",
       "      <td>NaN</td>\n",
       "      <td>Forest fire near La Ronge Sask. Canada</td>\n",
       "      <td>1</td>\n",
       "    </tr>\n",
       "    <tr>\n",
       "      <th>2</th>\n",
       "      <td>5</td>\n",
       "      <td>NaN</td>\n",
       "      <td>NaN</td>\n",
       "      <td>All residents asked to 'shelter in place' are ...</td>\n",
       "      <td>1</td>\n",
       "    </tr>\n",
       "    <tr>\n",
       "      <th>3</th>\n",
       "      <td>6</td>\n",
       "      <td>NaN</td>\n",
       "      <td>NaN</td>\n",
       "      <td>13,000 people receive #wildfires evacuation or...</td>\n",
       "      <td>1</td>\n",
       "    </tr>\n",
       "    <tr>\n",
       "      <th>4</th>\n",
       "      <td>7</td>\n",
       "      <td>NaN</td>\n",
       "      <td>NaN</td>\n",
       "      <td>Just got sent this photo from Ruby #Alaska as ...</td>\n",
       "      <td>1</td>\n",
       "    </tr>\n",
       "  </tbody>\n",
       "</table>\n",
       "</div>"
      ],
      "text/plain": [
       "   id keyword location                                               text  \\\n",
       "0   1     NaN      NaN  Our Deeds are the Reason of this #earthquake M...   \n",
       "1   4     NaN      NaN             Forest fire near La Ronge Sask. Canada   \n",
       "2   5     NaN      NaN  All residents asked to 'shelter in place' are ...   \n",
       "3   6     NaN      NaN  13,000 people receive #wildfires evacuation or...   \n",
       "4   7     NaN      NaN  Just got sent this photo from Ruby #Alaska as ...   \n",
       "\n",
       "   target  \n",
       "0       1  \n",
       "1       1  \n",
       "2       1  \n",
       "3       1  \n",
       "4       1  "
      ]
     },
     "execution_count": 1,
     "metadata": {},
     "output_type": "execute_result"
    }
   ],
   "source": [
    "import pandas as pd\n",
    "import re\n",
    "import string\n",
    "import matplotlib.pyplot as plt\n",
    "import math\n",
    "import numpy as np\n",
    "from sklearn.feature_extraction.text import CountVectorizer\n",
    "train = pd.read_csv(\"train.csv\")\n",
    "train.head()"
   ]
  },
  {
   "cell_type": "markdown",
   "metadata": {},
   "source": [
    "# Testua aztertzen\n",
    "\n",
    "Testua aztertzeko listak sortuko ditugu esaldiak bilduko dituena"
   ]
  },
  {
   "cell_type": "code",
   "execution_count": 2,
   "metadata": {
    "scrolled": true
   },
   "outputs": [
    {
     "name": "stdout",
     "output_type": "stream",
     "text": [
      "['Our Deeds are the Reason of this #earthquake May ALLAH Forgive us all', 'Forest fire near La Ronge Sask. Canada', \"All residents asked to 'shelter in place' are being notified by officers. No other evacuation or shelter in place orders are expected\", '13,000 people receive #wildfires evacuation orders in California '] [1, 1, 1, 1]\n",
      "7613 7613\n",
      "3271\n"
     ]
    }
   ],
   "source": [
    "text = list(train.loc[:,\"text\"])\n",
    "target = list(train.loc[:,\"target\"])\n",
    "      \n",
    "print(text[0:4],target[0:4])\n",
    "print(len(text),len(target))\n",
    "print(sum(target))"
   ]
  },
  {
   "cell_type": "markdown",
   "metadata": {},
   "source": [
    "# Testua garbitzen\n",
    "\n",
    "Hiztegiako puntuazio markak eta beste hainak karaktere kenduko dizkiogu textuari"
   ]
  },
  {
   "cell_type": "code",
   "execution_count": 3,
   "metadata": {},
   "outputs": [],
   "source": [
    "def txtclean(txt):\n",
    "    a=[]\n",
    "    for x in text:\n",
    "        p1=re.sub('[%s]' % re.escape(string.punctuation), ' ', x)\n",
    "        p1=p1.lower()\n",
    "        a.append(p1)\n",
    "    return a\n",
    "\n",
    "text=txtclean(text)\n",
    "text_test=text[:600]\n",
    "target_test=target[:600]\n",
    "text_train=text[600:]\n",
    "target_train=target[600:]"
   ]
  },
  {
   "cell_type": "markdown",
   "metadata": {},
   "source": [
    "# Bi testu bektore sortzen\n",
    "\n",
    "0 eta 1koak desberdindu behar ditugu beraz horretan arituko gara. "
   ]
  },
  {
   "cell_type": "code",
   "execution_count": 4,
   "metadata": {},
   "outputs": [
    {
     "name": "stdout",
     "output_type": "stream",
     "text": [
      "7013\n",
      "3985\n",
      "3028\n"
     ]
    }
   ],
   "source": [
    "def texttrain(txt,tar):\n",
    "    train1=[]\n",
    "    train0=[]\n",
    "    i=0\n",
    "    for text in txt:\n",
    "        if tar[i]==1:\n",
    "            train1.append(text)\n",
    "        else:\n",
    "            train0.append(text)\n",
    "        i=i+1\n",
    "    return(train0,train1)\n",
    "\n",
    "train0,train1=texttrain(text_train,target_train)\n",
    "print(len(text_train))\n",
    "print(len(train0))\n",
    "print(len(train1))\n"
   ]
  },
  {
   "cell_type": "markdown",
   "metadata": {},
   "source": [
    "# Hiztegiak sortzen\n",
    "\n",
    "Daukagun testuak hiztegi bihurtuko ditugu"
   ]
  },
  {
   "cell_type": "code",
   "execution_count": 5,
   "metadata": {},
   "outputs": [],
   "source": [
    "# create the transform\n",
    "vectorizer = CountVectorizer(ngram_range=(1,2),max_df=0.35)\n",
    "# tokenize and build vocab\n",
    "vectorizer.fit(text_train)\n",
    "# summarize\n",
    "# encode document\n",
    "vtrain0 = vectorizer.transform(train0)\n",
    "vtrain1 = vectorizer.transform(train1)\n",
    "vtrain = vectorizer.transform(text_train)\n",
    "vtest = vectorizer.transform(text_test)"
   ]
  },
  {
   "cell_type": "code",
   "execution_count": 6,
   "metadata": {},
   "outputs": [
    {
     "name": "stdout",
     "output_type": "stream",
     "text": [
      "(3985, 84602)\n",
      "<class 'scipy.sparse.csr.csr_matrix'>\n",
      "[[0 0 0 ... 0 0 0]\n",
      " [0 0 0 ... 0 0 0]\n",
      " [0 0 0 ... 0 0 0]\n",
      " ...\n",
      " [0 0 0 ... 0 0 0]\n",
      " [0 0 0 ... 0 0 0]\n",
      " [0 0 0 ... 0 0 0]]\n",
      "-------------\n",
      "(3028, 84602)\n",
      "<class 'scipy.sparse.csr.csr_matrix'>\n",
      "[[0 0 0 ... 0 0 0]\n",
      " [0 0 0 ... 0 0 0]\n",
      " [0 0 0 ... 0 0 0]\n",
      " ...\n",
      " [0 0 0 ... 0 0 0]\n",
      " [0 0 0 ... 0 0 0]\n",
      " [0 0 0 ... 0 0 0]]\n",
      "-------------\n",
      "(7013, 84602)\n",
      "<class 'scipy.sparse.csr.csr_matrix'>\n",
      "[[0 0 0 ... 0 0 0]\n",
      " [0 0 0 ... 0 0 0]\n",
      " [0 0 0 ... 0 0 0]\n",
      " ...\n",
      " [0 0 0 ... 0 0 0]\n",
      " [0 0 0 ... 0 0 0]\n",
      " [0 0 0 ... 0 0 0]]\n",
      "-------------\n",
      "(600, 84602)\n",
      "<class 'scipy.sparse.csr.csr_matrix'>\n",
      "[[0 0 0 ... 0 0 0]\n",
      " [0 0 0 ... 0 0 0]\n",
      " [0 0 0 ... 0 0 0]\n",
      " ...\n",
      " [0 0 0 ... 0 0 0]\n",
      " [0 0 0 ... 0 0 0]\n",
      " [0 0 0 ... 0 0 0]]\n",
      "-------------\n"
     ]
    }
   ],
   "source": [
    "# summarize encoded vector\n",
    "for v in [vtrain0, vtrain1,vtrain, vtest] :    \n",
    "    print(v.shape)\n",
    "    print(type(v))\n",
    "    print(v.toarray())\n",
    "    print('-------------')"
   ]
  },
  {
   "cell_type": "markdown",
   "metadata": {},
   "source": [
    "# Bektoreak sortzen\n",
    "\n",
    "Testuak bektoretan bihurtu ondoren, orain bektore guztiak batuko ditugu hitz bakoitzaren maiztasuna jakiteko."
   ]
  },
  {
   "cell_type": "code",
   "execution_count": 7,
   "metadata": {
    "scrolled": true
   },
   "outputs": [
    {
     "name": "stdout",
     "output_type": "stream",
     "text": [
      "(1, 84602)\n",
      "<class 'numpy.matrix'>\n",
      "[[25  3  0 ...  0  1  1]]\n",
      "(1, 84602)\n",
      "<class 'numpy.matrix'>\n",
      "[[33  3  1 ...  1  1  1]]\n",
      "(1, 84602)\n",
      "<class 'numpy.matrix'>\n",
      "[[8 0 1 ... 1 0 0]]\n"
     ]
    }
   ],
   "source": [
    "vtrain1 = vtrain1.sum(axis=0)\n",
    "vtrain0 = vtrain0.sum(axis=0)\n",
    "vtrain = vtrain.sum(axis=0)\n",
    "\n",
    "for v in [vtrain1,vtrain, vtrain0] :    \n",
    "    print(v.shape)\n",
    "    print(type(v))\n",
    "    print(v)"
   ]
  },
  {
   "cell_type": "markdown",
   "metadata": {},
   "source": [
    "# Maiztasun erlatiboak\n",
    "\n",
    "Maiztasun erlatiboak kalkulatuko ditugu."
   ]
  },
  {
   "cell_type": "code",
   "execution_count": 8,
   "metadata": {},
   "outputs": [
    {
     "name": "stdout",
     "output_type": "stream",
     "text": [
      "88664\n",
      "[[0.02188542 0.00871029 0.         ... 0.         0.00502889 0.00502889]] (1, 84602)\n",
      "226.8869142268259\n",
      "------------------------------\n",
      "[[0.00563746 0.         0.00404809 ... 0.00404809 0.         0.        ]] (1, 84602)\n",
      "241.4558362149922\n",
      "------------------------------\n",
      "[[0. 0. 0. ... 0. 0. 0.]\n",
      " [0. 0. 0. ... 0. 0. 0.]\n",
      " [0. 0. 0. ... 0. 0. 0.]\n",
      " ...\n",
      " [0. 0. 0. ... 0. 0. 0.]\n",
      " [0. 0. 0. ... 0. 0. 0.]\n",
      " [0. 0. 0. ... 0. 0. 0.]] (600, 84602)\n",
      "------------------------------\n",
      "[[1.65987626e-04 1.50897842e-05 5.02992807e-06 ... 5.02992807e-06\n",
      "  5.02992807e-06 5.02992807e-06]]\n",
      "1.0\n",
      "------------------------------\n"
     ]
    }
   ],
   "source": [
    "ftrain1 = (vtrain1/vtrain1.sum())/np.sqrt(vtrain/vtrain.sum())\n",
    "print(vtrain1.sum())\n",
    "print(ftrain1,ftrain1.shape)\n",
    "print(ftrain1.sum())\n",
    "print('------------------------------')\n",
    "ftrain0 = (vtrain0/vtrain0.sum())/np.sqrt(vtrain/vtrain.sum())\n",
    "print(ftrain0,ftrain0.shape)\n",
    "print(ftrain0.sum())\n",
    "print('------------------------------')\n",
    "ftest = (vtest.multiply(1/(1e-10+vtest.sum(axis=1))).toarray())/np.sqrt(vtrain/vtrain.sum())\n",
    "print(ftest,ftest.shape)\n",
    "print('------------------------------')\n",
    "ftrain = vtrain/vtrain.sum()\n",
    "print(ftrain)\n",
    "print(ftrain.sum())\n",
    "print('------------------------------')"
   ]
  },
  {
   "cell_type": "code",
   "execution_count": 9,
   "metadata": {},
   "outputs": [
    {
     "name": "stdout",
     "output_type": "stream",
     "text": [
      "(1, 84602) [[0.02188542 0.00871029 0.         ... 0.         0.00502889 0.00502889]]\n",
      "--------------------\n",
      "(1, 84602) [[0.00563746 0.         0.00404809 ... 0.00404809 0.         0.        ]]\n",
      "--------------------\n",
      "(1, 84602) [[1.65987626e-04 1.50897842e-05 5.02992807e-06 ... 5.02992807e-06\n",
      "  5.02992807e-06 5.02992807e-06]]\n",
      "--------------------\n",
      "(600, 84602) [[0. 0. 0. ... 0. 0. 0.]\n",
      " [0. 0. 0. ... 0. 0. 0.]\n",
      " [0. 0. 0. ... 0. 0. 0.]\n",
      " ...\n",
      " [0. 0. 0. ... 0. 0. 0.]\n",
      " [0. 0. 0. ... 0. 0. 0.]\n",
      " [0. 0. 0. ... 0. 0. 0.]]\n",
      "--------------------\n"
     ]
    }
   ],
   "source": [
    "for f in (ftrain1, ftrain0, ftrain, ftest):\n",
    "    print(f.shape,f)\n",
    "    print('--------------------')"
   ]
  },
  {
   "cell_type": "markdown",
   "metadata": {},
   "source": [
    "# Distantziak kalkulatuko ditugu\n"
   ]
  },
  {
   "cell_type": "code",
   "execution_count": 15,
   "metadata": {},
   "outputs": [
    {
     "name": "stdout",
     "output_type": "stream",
     "text": [
      "----\n",
      "(600, 1) [[1.99493352]]\n",
      "----\n",
      "(600, 1) [[1.69822254]]\n"
     ]
    }
   ],
   "source": [
    "import numpy as np\n",
    "#print(ftrain1.shape,ftrain1)\n",
    "#print(ftrain0.shape,ftrain0)\n",
    "#print(ftest.shape,ftest)\n",
    "\n",
    "print('----')\n",
    "\n",
    "atrain1 =np.dot(ftest,ftrain1.transpose())\n",
    "\n",
    "print(atrain1.shape,max(atrain1))\n",
    "print('----')\n",
    "atrain0 = np.dot(ftest,ftrain0.transpose())\n",
    "print(atrain0.shape,max(atrain0))"
   ]
  },
  {
   "cell_type": "code",
   "execution_count": 11,
   "metadata": {},
   "outputs": [
    {
     "name": "stdout",
     "output_type": "stream",
     "text": [
      "-2.304506563636429\n",
      "2.549937886431415\n",
      "[0.14090912623353535, -1.7226304624241913, -0.40657337643161295, -1.246468545883681, -0.32780182328885255, -1.5693573157949876, -1.436459728496035, -0.02415386457441304, -0.36445709786821834, -0.18532431583851738, -0.6975060367575253, 0.26963546383720693, 0.08491453761261432, -0.4404215755426392, -0.5043358212859548, 0.7351250187116786, 2.549937886431415, 0.615970807155694, 0.3627699104758454, 0.506047329656907, 0.19254533464195664, 0.04789940564164664, 1.7918711601531536, 1.1568633696969948, 0.0, 0.7148711793958217, -0.23337450125317097, 2.468356801588816, 0.0, 1.6410154162188137, 0.2845341717397312, 0.40208639436552357, 0.45053898863991815, -0.23854680148904003, 0.17394260680547308, 0.1717796311264676, 0.8557112919832609, -1.7254813808706806, -0.7370885573986643, 1.065058778584444, 0.9599074502457017, 0.25404111477780483, 0.7564546005077386, 0.9714742469582474, 0.783227814981395, 0.7135231969496322, -0.5148796630149475, -0.19094463908479944, 0.9599074502457017, 0.47529621054581095, -0.75213901553578, -0.20349713691841562, -0.34179440966440455, -0.7067089184066327, 0.5163959745634165, -0.024397096548183846, 0.4743509884037942, 0.06566394388150995, 0.4910142092152341, -0.42109176780269164, 0.5908282435251369, 0.1397672360157406, 0.3815872974682965, -0.07411260289724209, 1.28179996353877, -0.6028097575536082, 0.6744346076531792, 0.5963001487071837, -0.5495880637296047, -0.30928691939075126, 0.6908866490739484, 0.1701561933484043, -1.0380574211686149, -1.3312209995741753, -1.2934212443520572, -0.40803272785376365, 0.05495635838451643, -1.4702739487778418, -1.0514294760791147, -0.21251289901616016, 0.35582870392436206, 0.27453789652703453, 0.5165423019602471, 0.3394265059241428, -0.21732872811827295, -0.7740867981212465, -0.8401204939499163, -0.3398487035546733, -0.5002931145322674, -1.0045882657785092, -0.4048245146305063, -0.8457401883693112, -1.0255475949034707, -0.9571408999919124, -0.634005537213577, -0.7315548323537853, 0.2334555943243988, -0.24448849268926287, 0.5107660672931866, 0.43404376392885835, -0.767443007926281, 0.4302263838615235, 0.35800187278213913, 0.10761177014637972, 0.6993379177971142, 0.1621170998439561, 0.6993379177971142, -0.06682225456396086, 0.2250271496529462, 0.029217695604753444, 0.26216331141285454, 0.9697441686027777, 0.32894111621362104, 0.48872062632845464, 0.6993379177971142, 0.6993379177971142, 0.6993379177971142, 0.3632804183416004, 0.6993379177971142, 0.6993379177971142, 0.1761801933177202, 0.2015667106461743, 0.7679313976185309, 0.9813717629036097, 0.22494340502123966, 1.1304075404075504, 0.38830879534331997, 0.531912465935939, 0.6564332922887108, 0.6099101474726014, 2.06136984493104, 0.48872062632845464, 0.7567120301742642, 0.17493495734593667, 0.27448193238860785, 0.4296872672838431, -1.040426502025039, -0.256213928327424, -0.4562479641009846, -0.9898451777881218, 0.6022808153087534, -0.8306967690983521, -0.3924749581510088, -0.41224918575954494, -1.1185385308510674, -0.48101817541385666, -1.081478942628283, -0.9650351377174498, -0.7525499876220231, -0.008404704722721671, -0.08780351985709754, -0.8954131576682693, -0.7216441636654203, -0.26119453133179754, -0.41224918575954494, -1.1362784279161158, -0.7270212562761394, -0.5287209339085671, -1.1627370259666385, -0.9898451777881218, 0.18276237205028747, -0.14952786012975824, -0.635698654206454, 0.25548034377348705, -0.9650351377174498, -1.1350118927976613, 0.24411615699719835, -0.5860696991831865, -0.6275618007916424, -0.34813482633827547, -0.6893245007078789, 0.458714105631724, -1.8469301407196232, -1.0094809125417161, -2.0296225937096417, 0.06616063399079636, -0.3699258503340965, -1.8469301407196232, 0.40257840919845844, 0.7438435470693435, 0.06565749867725858, 0.09705656982777433, -1.1656182873870466, -1.8469301407196232, -0.8133959137938782, 0.6705249801691082, 0.40257840919845844, -1.4921538049970309, 0.6972935854676209, -0.609106259231211, -1.8469301407196232, -1.8469301407196232, 0.40257840919845844, 0.40257840919845844, 0.14070237693803828, 0.07135928086578751, -1.9276620509757871, -1.8469301407196232, -0.2050539970589794, 0.21824608503119225, 0.39555005218360473, -1.8469301407196232, -1.8469301407196232, -1.8899091172196691, -1.8899091172196691, 0.18624561810644447, -0.17733793358305322, -1.8469301407196232, -0.19218036357654272, 0.49531116399215575, 0.8145135207213077, 1.5206811993923337, 0.2925198334100911, 0.5761513143660623, 0.0, 0.37902760193780755, 0.747608663077084, 0.9492931688611831, -0.38974518726203633, 0.47452919293196144, -0.38974518726203633, 0.6296035339486038, 0.539339900737789, 0.20273163565908064, 0.4029686197421935, -0.3810750404998483, 0.3771952814242719, -0.6171287382083745, 0.747608663077084, 0.2041731831794865, 0.46046925449670184, 0.07898185222589847, 0.577677821545106, 0.31283085966495183, 0.174062973250696, 0.6315961093166343, -0.2666104443948701, 0.19608775199711762, -0.38974518726203633, 0.04415252889556679, 0.039331471323104425, 0.6098002846599411, 1.680451151028687, -0.017703232279369034, 0.24288580903680312, -1.344344067049245, -0.5167526988705569, -0.259816518404388, 0.6193515677970495, 0.5281567079199414, -0.3486659254449309, -0.3486659254449309, 0.39209189692569546, -0.5167526988705569, 0.1212972347926339, 1.605204132157832, -0.13938344688591225, 0.511449878890009, 0.08049777791742573, -0.3486659254449309, -0.0579270188001294, 0.5766705264868379, 0.511449878890009, 0.001097973113527277, -0.2641646737908488, -0.044141061818622734, -0.3486659254449309, -0.034162463478826496, 0.11328420096550841, 0.6193515677970495, -0.3486659254449309, -0.5167526988705569, 0.27407986430594494, 0.3794134971214446, 1.031476369168705, 0.19723011062965182, 1.1792918778188908, -0.18456300153312352, 0.44957419800497117, 0.3433817358299444, 0.5180676026659448, 0.5937972710198693, 1.0676222871577703, 1.1864521163430997, 0.5694195768697716, 0.39954344830798183, 0.6811701963906498, 0.28227056707657106, 0.6283944896132371, 0.3864775605223011, 0.46716040691225463, 0.6752546251640306, 0.537650153465061, 0.8616355332617543, -0.4546994283671723, 0.5156092182175639, 0.15278388638661958, 0.6760251693666969, 0.09627333950397905, -0.4405785256976547, 1.0645308795736186, 0.5557257432291188, 0.47785485709878284, 0.5974380453083384, 0.5729918659467942, 0.5729918659467942, 0.4822803419598403, 1.1699247885327095, 1.1050312406438794, 1.0389199347536626, 1.747992274455814, 1.0229640923311538, 0.22677742783567353, 0.6033201138369585, 0.5986709245096975, 0.16862980646460948, 0.5625305446443447, 0.5729918659467942, 0.22677742783567353, 0.5729918659467942, 0.14741591652528763, 0.48872062632845464, 0.8795798892473915, 0.0, 0.3178897118693524, 0.20838374462071377, 0.26804230458563527, 1.4133992847938328, 0.2769103395630271, -0.021724069264406197, 0.0015275504683141127, 0.27112373292051845, 0.044256787012027114, 0.3316141206082205, -0.23896628151187774, 0.40108902727557416, -1.4138584509206513, 0.07426499540642853, 0.4911943419754477, 0.6090607016689396, 0.06038779598495078, -0.8068815461677094, -0.05912968346222741, 0.5679980044173242, 0.6795291935411903, 0.9910123813404726, -0.20347499975956054, 0.2775474204472098, 0.10982353739208349, -0.14890350167928276, -0.2834997514634031, 0.2775474204472098, 0.24492730122006737, 0.22748672863672464, -0.49389633740445005, 0.16774609689534764, 0.37378208345372954, 0.26787878986904645, 0.2775474204472098, 1.0731245534755767, 0.2775474204472098, -0.4558050190690515, -1.686494646653158, 0.10982353739208349, -0.40401881231108555, 0.2775474204472098, 1.3345524971528286, 0.2775474204472098, -0.2903260824879024, 0.23854796001196968, -0.20197741167122282, -0.20197741167122282, -0.20197741167122282, -0.20197741167122282, 0.0004986066468093249, -0.09508140150398937, 0.23854796001196968, 0.23854796001196968, 0.2775474204472098, 0.2775474204472098, -1.074463660614728, 0.009265337166098061, -0.0869890849246936, -0.34470963863035003, 0.3786934831188093, -1.3791670374720113, -1.368662417011219, -1.368662417011219, 0.9667718217277749, -0.18941842485052554, 1.372101771396232, -1.4357041804481634, -0.6487356733831781, -0.8007798399277601, -1.1235500871040585, 0.11389888075894287, 0.6222308648928577, -0.8085785545409352, -1.4175696706709564, -0.568821555515919, -0.3460461348291354, 1.8278031693667913, 0.11389888075894287, -1.368662417011219, -0.1991953931257289, -0.18941842485052554, -1.368662417011219, -0.3521871709758365, -1.4278087242825481, 0.09070498950849418, -1.277006093959897, -1.4357041804481634, 0.291162518658219, 2.0359104056121073, -1.357255712419832, -0.19849685815524715, -1.5190634000716075, -1.4357041804481634, -0.05365933860000471, -0.19489933326424866, 0.13942217118429573, 0.2571416486408462, 1.0524623916922102, -0.2997888195477218, -0.26229403912263566, -0.5446142314395717, 0.912585448260695, 0.8313986753801408, 0.580719210884296, -0.12454729753235308, -0.57496323113116, 0.2930942081537372, 0.20839421419013127, -0.21695281397690305, -1.357255712419832, 0.09057507357932583, 0.27252825931445057, -0.8513039716647343, 0.11503183960496868, 0.20590403680055408, 0.7297356490224628, 0.31506912774616574, 0.9098959001684834, -0.2160059754889071, -0.2597187466460382, -0.36613816691297146, -0.01213446385496323, -0.14461221754090287, -0.8328659520904632, -1.4676919643477944, -0.10366835834674488, 0.38980150210202213, -2.026118616990763, 0.4890281094718224, -0.80618505601598, -1.4831238510126965, -1.5017152332671644, -1.4619836036530958, -2.304506563636429, -1.3691158177957632, -0.7957535586860381, 0.2564394801426697, -1.583843885990784, 0.09592770766530342, 0.5741385249978125, 0.23752373448706174, 0.13539326009138639, -0.08368736232638119, -0.6335287500836057, -0.21077276700316502, -0.9063852428181502, 0.23847301325035586, -0.72463531299736, -0.14687503491904172, -0.8328659520904632, -0.010634863217518609, 0.3054873010931547, -0.06946298133392029, -0.6629184837706628, 0.0011406886461239603, -0.5576490512011647, 0.4162962249365703, 0.5284575063614078, -1.8150653422353957, 0.36692392747788666, -0.2365612853633163, 0.24994758255076518, 0.6205667105475381, 0.3071704047893438, -0.7116536321379978, -0.4874477435996644, -0.4874477435996644, -0.4874477435996644, -0.4912728440040765, -0.7488161093897562, -0.4874477435996644, -0.20601787124135496, -0.46653975313929635, -0.22677274655202376, -0.4874477435996644, -0.4874477435996644, 0.5890371751228289, -0.002925642015110716, 0.520363140815351, -0.4874477435996644, -0.4874477435996644, -0.4874477435996644, 0.6566988873877483, -0.4874477435996644, 0.5448657764570217, -0.4874477435996644, -0.4874477435996644, -0.4874477435996644, -0.49081942788449845, -0.4874477435996644, 0.48746336526152984, -0.4874477435996644, 0.41045826953116676, 0.3910548005649249, -0.03999966562661805, 0.14644647516403678, -0.9798056243416837, 0.8561120600255054, 0.28066469436019187, 0.5181585656048147, 0.07828854301010252, 0.5616525106925525, -1.129958211089652, 0.3284073988271285, -0.07567795229593738, 0.5021743738680339, -0.38579149071266083, -0.01907497327579857, 0.3289270712160947, 0.8254219650516395, 0.20536047645324856, -0.13546079430181843, 0.3160322799421223, -0.15845228743964257, 0.5811140718410746, 0.8495655451434775, 0.16997553123369663, -0.06534242030350429, 0.07603677908235608, -0.4358318010061702, 0.30614961873736185, 0.037237409967654025, 1.0809646532321364, 0.4113857791298389, 1.050156302570964, 0.28762230479085454, 0.983086324854998, 0.1591057095346913, 0.48694888960796173, 0.8709961443122854, -0.18423814567635108, 1.7102887962896915, 0.24672435605272472, 0.8393349130792763, 0.5418667529289011, 0.85262856258438, 0.31605192974940616, 1.1888937033105884, -0.42301188167474396, 0.6134966541057177, 0.31397398905611157, 0.390923530214383, 0.7620157795450528, 0.27319846161216954, 1.0809646532321364, 1.6224566449317195, -0.12080354320568953, 0.5637402738015485, -0.9294107539252146, -0.6458857121780949, -0.78524387621348, -0.9416364971872884, -1.4746676493659363, -0.8772419209280243, -0.8548474283413889, -0.7683621667203472, -0.1606711590061715, -0.8354493354929918, -1.3198223548994306, -0.9416364971872884, -0.5482034195851961, -0.4512884379907364, -0.8818369726368778, -0.7184192650036126, -0.577629877987804, -0.5004455775585016, -0.8818369726368778, -0.9243533106686282, -0.2633957712339242, -0.8880099649751173, 0.3095725248503225, -0.0014662451377174528, -0.6458857121780949, -1.497481062015298, -1.5004427302714427] 600\n"
     ]
    }
   ],
   "source": [
    "antz=np.log(np.divide((atrain0+1e-10),(atrain1+1e-10)))\n",
    "antze=antz.transpose().tolist()[0]\n",
    "print(min(antze))\n",
    "print(max(antze))\n",
    "print(antze,len(antze))"
   ]
  },
  {
   "cell_type": "code",
   "execution_count": 12,
   "metadata": {},
   "outputs": [
    {
     "data": {
      "image/png": "[encoded data removed]",
      "text/plain": [
       "<Figure size 432x288 with 1 Axes>"
      ]
     },
     "metadata": {
      "needs_background": "light"
     },
     "output_type": "display_data"
    },
    {
     "name": "stdout",
     "output_type": "stream",
     "text": [
      "-40.5\n",
      "2.549937886431415\n"
     ]
    }
   ],
   "source": [
    "def errorea(score,target):\n",
    "    z = sorted(zip(score,target))\n",
    "    g2 = [ y for x,y in z ]\n",
    "    s2 = [ x for x,y in z ]\n",
    "    erro=[]\n",
    "    eps=[]\n",
    "    n = len(s2)\n",
    "    for i,x in enumerate(s2):\n",
    "        e1 = sum(g2[:i+1])\n",
    "        e2 = n-i-1-sum(g2[i+1:])\n",
    "        e = (e1+e2)/n * 100\n",
    "        erro.append(e)\n",
    "        eps.append(x)\n",
    "    return(eps,erro)\n",
    "\n",
    "eps,erro=errorea(antze,target_test)        \n",
    "plt.plot(eps,erro)\n",
    "plt.show()\n",
    "epsilon=eps[erro.index(min(erro))]\n",
    "\n",
    "print(min(erro))\n",
    "print(epsilon)"
   ]
  },
  {
   "cell_type": "code",
   "execution_count": 13,
   "metadata": {},
   "outputs": [
    {
     "data": {
      "image/png": "[encoded data removed]",
      "text/plain": [
       "<Figure size 432x288 with 1 Axes>"
      ]
     },
     "metadata": {
      "needs_background": "light"
     },
     "output_type": "display_data"
    },
    {
     "name": "stdout",
     "output_type": "stream",
     "text": [
      "80.5\n",
      "-0.3521871709758365\n"
     ]
    }
   ],
   "source": [
    "def antzeko(score,target):\n",
    "    z = sorted(zip(score,target))\n",
    "    g2 = [ y for x,y in z ]\n",
    "    s2 = [ x for x,y in z ]\n",
    "    zeh=[]\n",
    "    eps=[]\n",
    "    n = len(s2)\n",
    "    for i,x in enumerate(s2):\n",
    "        e1 = sum(g2[:i+1])\n",
    "        e2 = n-i-1-sum(g2[i+1:])\n",
    "        e = (e1+e2)/n * 100\n",
    "        zeh.append(e)\n",
    "        eps.append(x)\n",
    "    return(eps,zeh)\n",
    "\n",
    "eps,zeh=antzeko(antze,target_test)        \n",
    "plt.plot(eps,zeh)\n",
    "plt.show()\n",
    "epsilon=eps[zeh.index(max(zeh))]\n",
    "\n",
    "print(max(zeh))\n",
    "print(epsilon)"
   ]
  },
  {
   "cell_type": "code",
   "execution_count": null,
   "metadata": {},
   "outputs": [],
   "source": []
  }
 ],
 "metadata": {
  "kernelspec": {
   "display_name": "Python 3",
   "language": "python",
   "name": "python3"
  },
  "language_info": {
   "codemirror_mode": {
    "name": "ipython",
    "version": 3
   },
   "file_extension": ".py",
   "mimetype": "text/x-python",
   "name": "python",
   "nbconvert_exporter": "python",
   "pygments_lexer": "ipython3",
   "version": "3.7.4"
  }
 },
 "nbformat": 4,
 "nbformat_minor": 2
}
